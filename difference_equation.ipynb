{
 "cells": [
  {
   "cell_type": "markdown",
   "metadata": {},
   "source": [
    "### Difference Equation using Convolution\n",
    "#### y(n) = 0.3x(n) + 0.4x(n-1) + 0.3x(n-2)"
   ]
  },
  {
   "cell_type": "code",
   "execution_count": 22,
   "metadata": {},
   "outputs": [],
   "source": [
    "import numpy as np\n",
    "import matplotlib.pyplot as plt"
   ]
  },
  {
   "cell_type": "code",
   "execution_count": 21,
   "metadata": {},
   "outputs": [],
   "source": [
    "def convolve(x, h):\n",
    "    len_x = len(x)\n",
    "    len_h = len(h)\n",
    "    len_y = len_x + len_h - 1\n",
    "    y = [0] * len_y\n",
    "\n",
    "    for i in range(len_y):\n",
    "        for k in range(len_x):\n",
    "            if(i - k >= 0 and i - k < len_h):\n",
    "                y[i] += x[k] * h[i - k]\n",
    "\n",
    "    return y"
   ]
  },
  {
   "cell_type": "code",
   "execution_count": 29,
   "metadata": {},
   "outputs": [
    {
     "name": "stdout",
     "output_type": "stream",
     "text": [
      "y(n) = [0.3 1.  2.  3.  4.  3.2 1.5]\n"
     ]
    }
   ],
   "source": [
    "x = np.array([1, 2, 3, 4, 5])\n",
    "h = np.array([0.3, 0.4, 0.3])\n",
    "y = np.convolve(h, x)\n",
    "print('y(n) =', y)"
   ]
  }
 ],
 "metadata": {
  "kernelspec": {
   "display_name": "Python 3",
   "language": "python",
   "name": "python3"
  },
  "language_info": {
   "codemirror_mode": {
    "name": "ipython",
    "version": 3
   },
   "file_extension": ".py",
   "mimetype": "text/x-python",
   "name": "python",
   "nbconvert_exporter": "python",
   "pygments_lexer": "ipython3",
   "version": "3.11.2"
  }
 },
 "nbformat": 4,
 "nbformat_minor": 2
}
